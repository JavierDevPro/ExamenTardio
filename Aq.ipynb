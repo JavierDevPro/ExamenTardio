{
  "nbformat": 4,
  "nbformat_minor": 0,
  "metadata": {
    "colab": {
      "provenance": []
    },
    "kernelspec": {
      "name": "python3",
      "display_name": "Python 3"
    },
    "language_info": {
      "name": "python"
    }
  },
  "cells": [
    {
      "cell_type": "markdown",
      "source": [
        "#Aq punto\n",
        "Escribe la estructura de código necesaria para que la función listados(a) reciba una lista por parámetro, recorra sus elementos utilizando un ciclo for y obtenga únicamente los dos primeros ítems de dicha lista.\n",
        "\n",
        "Además, incluye un comentario en el código explicando detalladamente por qué se obtiene ese resultado.\n",
        "\n",
        "Finalmente, comparte el enlace del ejercicio realizado en Google COLAB desarrollado y subido a un repositorio en GitHub."
      ],
      "metadata": {
        "id": "C6uLinmP3RUa"
      }
    },
    {
      "cell_type": "code",
      "execution_count": null,
      "metadata": {
        "colab": {
          "base_uri": "https://localhost:8080/"
        },
        "id": "5C1Rrxfhu2ra",
        "outputId": "67aa06a0-d571-45f1-b1b7-62fe5670f3b6"
      },
      "outputs": [
        {
          "output_type": "stream",
          "name": "stdout",
          "text": [
            "['hamster', 'perro']\n"
          ]
        }
      ],
      "source": [
        "#Se crea unas listas como parametros para ingresar despues\n",
        "frutas = [\"banana\", \"manzana\", \"naranja\", \"mango\"]\n",
        "animales = [\"hamster\", \"perro\", \"gato\"]\n",
        "#las hice de diferente tamaño para que se valide que la funcion sirve con cualquier tipo de tamaño\n",
        "contador = 0#inicializamos variable contadora externa\n",
        "#declaro la funcion la cual requiere una lista como parametro\n",
        "def listados(a,lista = []):\n",
        "  devolver = []#declaramos una lista o arreglo vacio para llenar despues y devolver los datos necesarios\n",
        "  for i in lista:#recorremos los elementos de la lista por medio del ciclo for\n",
        "      if a == 0:#condicion para la posicion 0 el primer dato\n",
        "        devolver.append(i)#se agrega a la ultima posicion de la lista vacia osease [0] el valor tomado en (i) en esta iteracion\n",
        "      elif a == 1:#condicion para el segundo dato en la posicion 1\n",
        "        devolver.append(i)#se agrega a la ultima posicion de la lista vacia osease [0] el valor tomado en (i) en esta iteracion\n",
        "      a = a + 1 #acumulador para las condiciones que se aumenta despues de cada recorrido del ciclo for\n",
        "\n",
        "  return devolver #retorno de la lista con lps dos elementos necesarios\n",
        "\n",
        "\n",
        "print(listados(contador, animales))#imprimo el llamado de la lista que es el retorno"
      ]
    },
    {
      "cell_type": "markdown",
      "source": [
        "#Bq Punto\n",
        "Escribe la estructura de código necesaria para acceder y obtener un diccionario que se encuentra en la posición 3 dentro de una lista.\n",
        "\n",
        "Además, incluye un comentario en el código explicando detalladamente por qué se obtiene ese resultado y cómo funciona el acceso a dicho elemento.\n",
        "\n",
        "Finalmente, comparte el enlace del ejercicio realizado en Google COLAB desarrollado y subido a un repositorio en GitHub."
      ],
      "metadata": {
        "id": "N0ri0c8WdEet"
      }
    },
    {
      "cell_type": "code",
      "source": [
        "listaDiccionarios = [#tome esta lista de diccionarios del ultimo punto ya que ya estaba llena de datos\n",
        "    {\"name\": \"Carter\", \"number\": \"+1-617-495-1000\"},#posicion 0, pero primer elemento\n",
        "    {\"name\": \"David\", \"number\": \"+1-617-495-1000\"},#posicion 1, pero segundo elemento\n",
        "    {\"name\": \"John\", \"number\": \"+1-949-468-2750\"}#posicion 2, pero tercer elemento este es el que buscamos\n",
        "]\n",
        "\n",
        "print(listaDiccionarios[2])#para acceder al 3cer elemento de una lista o al elemento x que deseemos tenemos que tener en cuenta la siguiente formula\n",
        "#la posicion deseada => n - 1 => (n) representando el numero de la posicion del elemento que deseamos en este caso (3) por ser el 3cer elemento de una lista\n",
        "#recordando que las posiciones en una lista o arreglo van desde 0 => [0,1,2,3....n-1]1xn arreglo de 1 dimension por n que es el tamaño del arreglo o lista.\n",
        "#en caso de literalmente buscar la posicion 3 en ese caso se necesitaria un arreglo que contenga 4 diccionarios y de ahi se saca el que se encuentra en la posicion 3 que seria el 4 elemento"
      ],
      "metadata": {
        "colab": {
          "base_uri": "https://localhost:8080/"
        },
        "id": "wNDuLwWkbO60",
        "outputId": "36a0c833-28d3-4c01-b700-693d151ed877"
      },
      "execution_count": 7,
      "outputs": [
        {
          "output_type": "stream",
          "name": "stdout",
          "text": [
            "{'name': 'John', 'number': '+1-949-468-2750'}\n"
          ]
        }
      ]
    },
    {
      "cell_type": "markdown",
      "source": [
        "#Cq Punto\n",
        "\n",
        " Explica con tus propias palabras qué son los loopers o bucles en Python, y para qué se utilizan específicamente mediante la estructura del ciclo for.\n",
        "\n",
        "Luego, escribe un ejemplo de código en Python utilizando el for, donde se evidencie su funcionamiento y utilidad.\n",
        "\n",
        "Esta explicación se incluirá en un comentario en el código explicando claramente por qué se obtiene el resultado mostrado y cuál es el propósito de usar este tipo de bucle en dicho contexto.\n",
        "\n",
        "Finalmente, comparte el enlace del ejercicio realizado en Google COLAB desarrollado y subido a un repositorio en GitHub."
      ],
      "metadata": {
        "id": "a714n-wQdma0"
      }
    },
    {
      "cell_type": "code",
      "source": [
        "#Los bules en python son estructuras que buscan la repeticion de una seccion del codigo segun si se cumplen ciertas condiciones.\n",
        "#en el caso de python y el ciclo for o ciclo para, puede servir de varias maneras por ejemplo si queremos recorrer un arreglo o lista, tambien para realizar una instruccion una cantidad fija de veces\n",
        "#o incluso una cantidad (n) de veces el condicional for suele ser mas implementado para la resolucion de problemas con requisitos numericos y no tanto logicos.\n",
        "listaElementos = [\"elemento1\", \"elemento2\", \"elemento3\"]#primero se tiene que contar con una lista con elemento para recorrer\n",
        "\n",
        "for i in listaElementos:#el ciclo for nos permite en el recorrido de una lista tomar directamente el valor que se encuentra indexado en la posicion correspondiente de la lista\n",
        "  print(i)#aqui es donde se demuestra lo anterior\n",
        "\n",
        "for b in range(1, 10, 1):#aqui usamos el ciclo para que una accion se repita una cantidad fija de veces en este caso 10 veces aqui todos los valores pueden ser cambiados por variables\n",
        "  print(b)"
      ],
      "metadata": {
        "colab": {
          "base_uri": "https://localhost:8080/"
        },
        "id": "9NByhT60dsV8",
        "outputId": "f1632158-bb87-4e27-8f7a-55ea6b1662dd"
      },
      "execution_count": 5,
      "outputs": [
        {
          "output_type": "stream",
          "name": "stdout",
          "text": [
            "elemento1\n",
            "elemento2\n",
            "elemento3\n",
            "1\n",
            "1\n",
            "2\n",
            "3\n",
            "2\n",
            "2\n",
            "3\n",
            "3\n",
            "3\n",
            "4\n",
            "5\n",
            "6\n",
            "7\n",
            "8\n",
            "9\n"
          ]
        }
      ]
    },
    {
      "cell_type": "markdown",
      "source": [
        "#Dq punto\n",
        "En el CS50 Se discutió un ejercicio que mezclaba la estructura de Listas, Diccionarios if/else y for copia el codigo que te dejo a continuación y realiza los respectivos comentarios linea a linea y explica el por qué de sus salidas y adiciona mas abajo el enlace de todo el ejercicio en Github realizado en Google Colab\n",
        "\n",
        "people = [\n",
        "    {\"name\": \"Carter\", \"number\": \"+1-617-495-1000\"},\n",
        "    {\"name\": \"David\", \"number\": \"+1-617-495-1000\"},\n",
        "    {\"name\": \"John\", \"number\": \"+1-949-468-2750\"}\n",
        "]\n",
        "\n",
        "name = input(\"Name: \")\n",
        "\n",
        "for person in people:\n",
        "    if person[\"name\"] == name:\n",
        "        number = person[\"number\"]\n",
        "        print(f\"Found {number}\")\n",
        "        break\n",
        "else:\n",
        "    print(\"Not found\")\n",
        "\n",
        "Finalmente, comparte el enlace del ejercicio realizado en Google COLAB desarrollado y subido a un repositorio en GitHub."
      ],
      "metadata": {
        "id": "8yE661hWmFpl"
      }
    },
    {
      "cell_type": "code",
      "source": [
        "people = [#se empieza una lista de diccionarios de nombre people\n",
        "    {\"name\": \"Carter\", \"number\": \"+1-617-495-1000\"},#se introducen una serie de diccionarios con claves name  number\n",
        "    {\"name\": \"David\", \"number\": \"+1-617-495-1000\"},\n",
        "    {\"name\": \"John\", \"number\": \"+1-949-468-2750\"}\n",
        "]\n",
        "\n",
        "name = input(\"Name: \") #se declara y se introduce por teclado el valor de una variable de nombre name que no es la misma del diccionario puesto que es externa al ultimo\n",
        "\n",
        "for person in people:#se recorre la lista de diccionarios\n",
        "    if person[\"name\"] == name:#se busca si el nombre introducido de manera externa es similar al valor actual del iterador person que toma el valor de la posicion actual del recorrido del arreglo\n",
        "        number = person[\"number\"]#se establece una nueva variable externa de nombre number con el valor de number en la lista segun si la condicion anterior se cumplio\n",
        "        print(f\"Found {number}\")#se imprime que se encontro el nombre y se expone el numero relacionado a dicha clave con valor similar\n",
        "        break#se termina la ejecucion del ciclo\n",
        "else:\n",
        "    print(\"Not found\")#si al recorrer el arreglo por medio del ciclo no se cumplio la condicion se imprimira un mensaje de no encontrado!"
      ],
      "metadata": {
        "colab": {
          "base_uri": "https://localhost:8080/"
        },
        "id": "aWg_hSOMmP-y",
        "outputId": "ca6354c3-a031-4805-8a0f-ed0592a943de"
      },
      "execution_count": 9,
      "outputs": [
        {
          "output_type": "stream",
          "name": "stdout",
          "text": [
            "Name: jo\n",
            "Not found\n"
          ]
        }
      ]
    }
  ]
}